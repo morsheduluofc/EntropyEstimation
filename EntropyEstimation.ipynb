{
  "nbformat": 4,
  "nbformat_minor": 0,
  "metadata": {
    "colab": {
      "name": "EntropyEstimation.ipynb",
      "provenance": [],
      "toc_visible": true,
      "authorship_tag": "ABX9TyNesstBUrn+5Wl/t+Yi+UIY",
      "include_colab_link": true
    },
    "kernelspec": {
      "name": "python3",
      "display_name": "Python 3"
    },
    "language_info": {
      "name": "python"
    }
  },
  "cells": [
    {
      "cell_type": "markdown",
      "metadata": {
        "id": "view-in-github",
        "colab_type": "text"
      },
      "source": [
        "<a href=\"https://colab.research.google.com/github/morsheduluofc/EntropyEstimation/blob/main/EntropyEstimation.ipynb\" target=\"_parent\"><img src=\"https://colab.research.google.com/assets/colab-badge.svg\" alt=\"Open In Colab\"/></a>"
      ]
    },
    {
      "cell_type": "markdown",
      "metadata": {
        "id": "Soc-vKX8WFVX"
      },
      "source": [
        "#Entropy Estimation of DAC Profiles:\n",
        "**All Steps:**\n",
        "\n",
        "- Step1: read all 195 profiles' data from CSV file\n",
        "\n",
        "- Step2: install the package \"entropy_estimators\" to estimate entropy\n",
        "\n",
        "- Step3: compute the entropy of each profile by using k-nearest neighbour approach\n",
        "\n",
        "- Step4: show all estimated entropy in a graph (histogram)"
      ]
    },
    {
      "cell_type": "markdown",
      "metadata": {
        "id": "3f2HB3U3XjrP"
      },
      "source": [
        "**Step1: read all 195 profiles' data from CSV file**\n",
        "\n",
        "- All users' data (both registration and verification data) are in \"AllOriginalData.csv\" file. There are 195 users' data and 65 features in each profile\n",
        "\n",
        "\n",
        "> - Every column in the CSV file represent a feature (1st column store the ID of the user)\n",
        ">- Every row is a vectore of 65 dimensions (65 features)\n",
        "\n",
        "- Different users have different number of vectors in their profile. So, we maintain a list of indices to keep track the number of vectors in each profile and store them in \"allUserIndx.csv\" file.\n",
        "\n",
        "- To represent the profile data in a table we used the panda package"
      ]
    },
    {
      "cell_type": "code",
      "metadata": {
        "colab": {
          "base_uri": "https://localhost:8080/"
        },
        "id": "nkran0X8WEEu",
        "outputId": "f3ca5da0-8bfb-4b54-8398-138dac518034"
      },
      "source": [
        "#Read both csv files\n",
        "#Please upload the 'AllOriginalData.csv' and 'allUserIndx.csv' in a \"Data\" folder before run the code\n",
        "import csv\n",
        "with open('Data/AllOriginalData.csv') as csvfile:\n",
        "    AllNProfiles = list(csv.reader(csvfile, delimiter=','))\n",
        "with open('Data/allUserIndx.csv') as csvfile:\n",
        "    dataIndex = list(csv.reader(csvfile, delimiter=','))\n",
        "print('Read data successfully.')"
      ],
      "execution_count": null,
      "outputs": [
        {
          "output_type": "stream",
          "text": [
            "Read data successfully.\n"
          ],
          "name": "stdout"
        }
      ]
    },
    {
      "cell_type": "code",
      "metadata": {
        "colab": {
          "base_uri": "https://localhost:8080/"
        },
        "id": "0pPXXZikaqE_",
        "outputId": "3ab26700-51b8-49d1-cf6a-4dd1b6fc90d4"
      },
      "source": [
        "#print the list of indicies that track the number of vector in each profile. \n",
        "#For example: \n",
        "#  -first user's profile has 180 vectors and the index start from index 0 and end at 179\n",
        "#  -second user's profile has 140 vectors and the index start from index 180 and end at 319\n",
        "print(dataIndex)"
      ],
      "execution_count": null,
      "outputs": [
        {
          "output_type": "stream",
          "text": [
            "[['0.0', '180.0', '320.0', '460.0', '580.0', '720.0', '860.0', '960.0', '1020.0', '1160.0', '1300.0', '1460.0', '1560.0', '1700.0', '1840.0', '1980.0', '2120.0', '2260.0', '2400.0', '2540.0', '2680.0', '2820.0', '2960.0', '3100.0', '3240.0', '3380.0', '3520.0', '3660.0', '3800.0', '3940.0', '4080.0', '4220.0', '4340.0', '4480.0', '4620.0', '4780.0', '4920.0', '5060.0', '5200.0', '5320.0', '5500.0', '5640.0', '5780.0', '5920.0', '6020.0', '6160.0', '6240.0', '6380.0', '6520.0', '6660.0', '6720.0', '6860.0', '7000.0', '7140.0', '7280.0', '7420.0', '7560.0', '7700.0', '7880.0', '8020.0', '8160.0', '8300.0', '8440.0', '8600.0', '8660.0', '8720.0', '8820.0', '8960.0', '9100.0', '9240.0', '9360.0', '9500.0', '9640.0', '9780.0', '9940.0', '10080.0', '10220.0', '10360.0', '10460.0', '10520.0', '10580.0', '10660.0', '10840.0', '10980.0', '11060.0', '11220.0', '11360.0', '11500.0', '11640.0', '11700.0', '11840.0', '11920.0', '12020.0', '12100.0', '12240.0', '12380.0', '12540.0', '12740.0', '12880.0', '13020.0', '13160.0', '13300.0', '13420.0', '13560.0', '13700.0', '13780.0', '13920.0', '14060.0', '14120.0', '14180.0', '14320.0', '14380.0', '14440.0', '14580.0', '14720.0', '14860.0', '15000.0', '15140.0', '15280.0', '15420.0', '15560.0', '15640.0', '15780.0', '15980.0', '16140.0', '16480.0', '16640.0', '16740.0', '16880.0', '17020.0', '17180.0', '17320.0', '17460.0', '17600.0', '17700.0', '17800.0', '17940.0', '18020.0', '18100.0', '18240.0', '18440.0', '18620.0', '18760.0', '18860.0', '19000.0', '19140.0', '19280.0', '19420.0', '19580.0', '19680.0', '19800.0', '19940.0', '20080.0', '20220.0', '20320.0', '20460.0', '20600.0', '20740.0', '20880.0', '21020.0', '21160.0', '21240.0', '21320.0', '21460.0', '21600.0', '21740.0', '21880.0', '22020.0', '22160.0', '22260.0', '22400.0', '22480.0', '22560.0', '22640.0', '22740.0', '22880.0', '23020.0', '23160.0', '23300.0', '23440.0', '23580.0', '23720.0', '23860.0', '23980.0', '24040.0', '24180.0', '24280.0', '24420.0', '24600.0', '24780.0', '24920.0', '25060.0', '25200.0', '25340.0', '25480.0', '25620.0']]\n"
          ],
          "name": "stdout"
        }
      ]
    },
    {
      "cell_type": "code",
      "metadata": {
        "colab": {
          "base_uri": "https://localhost:8080/"
        },
        "id": "Xp4ZsTWrbeE1",
        "outputId": "070bd83e-c644-43db-8290-d8373e787038"
      },
      "source": [
        "# We read both csv files as the list\n",
        "# Here, we will convert the list 'AllNProfiles' as a panda data frame (a table)\n",
        "# Panda offer the numeric table for data manipulation and analysis\n",
        "# The output show a list of profiles' data in a table\n",
        "import pandas as pd\n",
        "\n",
        "AllNProfilesData = pd.DataFrame(AllNProfiles)\n",
        "AllNProfilesData=AllNProfilesData[1:] # we dropped the colums heading and set new heading \n",
        "\n",
        "for i in range (1,66):\n",
        "  AllNProfilesData.iloc[:,i] = pd.to_numeric(AllNProfilesData.iloc[:,i], downcast=\"float\").round(4)\n",
        "\n",
        "Allcolumns=['ID','F1','F2','F3','F4','F5','F6','F7','F8','F9','F10','F11','F12','F13','F14','F15','F16','F17','F18','F19',\n",
        "            'F20','F21','F22','F23','F24','F25','F26','F27','F28','F29','F30','F31','F32','F33','F34','F35','F36','F37','F38','F39',\n",
        "            'F40','F41','F42','F43','F44','F45','F46','F47','F48','F49','F50','F51','F52','F53','F54','F55','F56','F57','F58','F59','F60',\n",
        "            'F61','F62','F63','F64','F65']\n",
        "AllNProfilesData.columns= Allcolumns\n",
        "print(AllNProfilesData)"
      ],
      "execution_count": null,
      "outputs": [
        {
          "output_type": "stream",
          "text": [
            "                   ID       F1         F2  ...  F63     F64   F65\n",
            "1      A3MC5OA9RXOOFH   8.8948  15.188800  ...  1.0  0.0117   0.5\n",
            "2      A3MC5OA9RXOOFH   8.1821   5.145300  ... -1.0  0.0085   8.5\n",
            "3      A3MC5OA9RXOOFH   7.9351   5.439700  ... -1.0  0.0083  12.0\n",
            "4      A3MC5OA9RXOOFH   4.2835   2.135400  ...  1.0  0.0139   2.0\n",
            "5      A3MC5OA9RXOOFH  25.1415  14.283000  ... -1.0  0.0113   9.0\n",
            "...               ...      ...        ...  ...  ...     ...   ...\n",
            "25616            yash   1.9299   5.279000  ...  1.0  0.0164   1.0\n",
            "25617            yash   7.8832   6.403300  ...  1.0  0.0110  13.5\n",
            "25618            yash  24.5138  17.903799  ...  1.0  0.0087   4.0\n",
            "25619            yash   1.9289  15.459400  ...  1.0  0.0082   4.0\n",
            "25620            yash   3.6422   1.798500  ...  1.0  0.0133   3.0\n",
            "\n",
            "[25620 rows x 66 columns]\n"
          ],
          "name": "stdout"
        }
      ]
    },
    {
      "cell_type": "markdown",
      "metadata": {
        "id": "G3eHPtHNc64Z"
      },
      "source": [
        "**Step2: install the package \"entropy_estimators\"**\n",
        "\n",
        "-- We used the python package \"entropy_estimators\" to estimate entropy of the profile.\n",
        "\n",
        "-- It has a method \"continuous.get_h()\" that uses k nearest neighbor based approach to estimate the entropy\n",
        "\n",
        "-- Package Link: https://github.com/paulbrodersen/entropy_estimators\n",
        ">- Please see their example to get the idea how the entropy estimator works for multidimensional vectors\n"
      ]
    },
    {
      "cell_type": "code",
      "metadata": {
        "colab": {
          "base_uri": "https://localhost:8080/"
        },
        "id": "gALjpLureGMI",
        "outputId": "9b7c110e-7600-4cf5-e429-42d16f07082e"
      },
      "source": [
        "#install the package \"entropy_estimators\"\n",
        "!pip install entropy_estimators"
      ],
      "execution_count": null,
      "outputs": [
        {
          "output_type": "stream",
          "text": [
            "Requirement already satisfied: entropy_estimators in /usr/local/lib/python3.7/dist-packages (0.0.1)\n",
            "Requirement already satisfied: scipy in /usr/local/lib/python3.7/dist-packages (from entropy_estimators) (1.4.1)\n",
            "Requirement already satisfied: numpy in /usr/local/lib/python3.7/dist-packages (from entropy_estimators) (1.19.5)\n"
          ],
          "name": "stdout"
        }
      ]
    },
    {
      "cell_type": "code",
      "metadata": {
        "id": "RfivFqnHeWvk"
      },
      "source": [
        "#import the estimator\n",
        "import entropy_estimators"
      ],
      "execution_count": null,
      "outputs": []
    },
    {
      "cell_type": "markdown",
      "metadata": {
        "id": "6RqAD5IAepTK"
      },
      "source": [
        "**Step3: compute entropy using the k-nearest neighbour approach**\n",
        "\n",
        "--We used the function \"continuous.get_h()\" to estimate entropy. The function will take:\n",
        ">- A profile X that has n, d dimentional vectors\n",
        ">- The value of k of k nearest neighbor based approach (we used k=11 here)\n",
        ">- The (Eucliden) norm  to measure distance between two vectors\n",
        "\n",
        "-- For each user we take the:\n",
        ">- Start index and end index of the profile\n",
        ">- Divide all vectors in two groups: X for registered profile and Y for verification data\n",
        ">- One can use either X or Y to estimate the entropy"
      ]
    },
    {
      "cell_type": "code",
      "metadata": {
        "id": "rWe5lTMPei-d"
      },
      "source": [
        "from entropy_estimators import continuous\n",
        "\n",
        "AllNEntropy=[]; #Declare an empty entropy array\n",
        "\n",
        "for i in range(0,195): #for each user the loop will continue\n",
        "  #Calculate the start, end and mid index of each profile\n",
        "  stindx1=int(float(dataIndex[0][i]))\n",
        "  endindx1=int(float(dataIndex[0][i+1]))\n",
        "  midindx=int((endindx1-stindx1)/2)\n",
        "  \n",
        "  #Seperate the registered profile and verification data \n",
        "  X=AllNProfilesData.iloc[stindx1:stindx1+midindx,1:66]\n",
        "  #Y=AllNProfilesData.iloc[stindx1+midindx+1:endindx1,1:66]\n",
        "\n",
        "  # compute the entropy using the k-nearest neighbour approach\n",
        "  # developed by Kozachenko and Leonenko (1987).\n",
        "  #The original method output the entropy in nat. We convert it to bit by multiplying 1.442695 with nat \n",
        "  Entropy = 1.442695*continuous.get_h(X, k=11, norm='euclidean') \n",
        "  Entropy=Entropy.round(2)\n",
        "\n",
        "  #Stro all entropy as a list\n",
        "  AllNEntropy.append(Entropy)"
      ],
      "execution_count": null,
      "outputs": []
    },
    {
      "cell_type": "code",
      "metadata": {
        "colab": {
          "base_uri": "https://localhost:8080/"
        },
        "id": "Ta18ireMjHja",
        "outputId": "7919ff82-c9aa-425a-cc5f-61402ded455f"
      },
      "source": [
        "#print all calculated entropy of 195 users\n",
        "print(AllNEntropy)"
      ],
      "execution_count": null,
      "outputs": [
        {
          "output_type": "stream",
          "text": [
            "[698.99, 618.07, 679.38, 746.81, 686.25, 719.75, 698.56, 693.52, 659.25, 722.67, 715.83, 673.01, 694.98, 748.03, 663.22, 687.49, 712.79, 712.95, 667.47, 686.23, 707.17, 765.32, 633.72, 717.82, 669.13, 665.61, 774.34, 842.4, 622.74, 679.15, 724.75, 789.48, 651.02, 692.72, 695.23, 733.5, 645.95, 721.27, 696.7, 661.64, 681.28, 708.07, 704.38, 689.65, 721.26, 669.04, 723.45, 613.57, 750.51, 680.35, 734.92, 692.42, 683.74, 661.06, 679.25, 648.34, 812.0, 765.24, 667.02, 639.99, 694.01, 714.8, 693.62, 696.41, 702.34, 707.58, 697.35, 715.57, 729.25, 648.16, 709.43, 775.93, 676.8, 680.17, 693.63, 701.22, 776.25, 738.69, 747.4, 741.76, 766.75, 707.88, 703.24, 706.14, 699.43, 741.83, 651.04, 721.58, 708.26, 759.6, 710.33, 698.14, 644.63, 630.22, 679.14, 714.23, 712.95, 752.18, 710.56, 724.89, 686.54, 675.01, 708.49, 639.32, 692.17, 728.32, 575.89, 740.31, 751.2, 705.82, 737.74, 740.48, 684.94, 590.4, 714.02, 689.51, 771.37, 643.33, 797.27, 673.33, 695.82, 653.97, 769.73, 764.83, 730.56, 743.14, 733.1, 748.95, 616.1, 740.42, 761.16, 677.25, 678.44, 748.65, 750.75, 694.33, 727.41, 638.17, 641.81, 732.1, 649.35, 688.14, 774.33, 691.4, 728.54, 724.71, 765.67, 692.01, 717.69, 809.25, 760.94, 655.72, 664.61, 645.87, 608.95, 723.05, 791.93, 680.4, 727.22, 603.14, 599.17, 716.96, 708.06, 688.11, 737.33, 796.39, 706.74, 728.9, 730.77, 590.76, 726.66, 691.43, 707.08, 744.46, 734.04, 733.65, 757.78, 702.52, 685.88, 737.4, 762.54, 711.78, 753.17, 737.76, 736.83, 751.8, 665.14, 703.94, 732.48, 661.41, 708.91, 758.33, 675.37, 676.63, 687.18]\n"
          ],
          "name": "stdout"
        }
      ]
    },
    {
      "cell_type": "markdown",
      "metadata": {
        "id": "NN3MsBsbc39V"
      },
      "source": [
        "**Step4: show all estimated entropy in a (histogram) graph. In the graph**\n",
        "\n",
        "-- X-axis represents the entropy in bits\n",
        "\n",
        "-- Y-axis represent the number of profiles \n"
      ]
    },
    {
      "cell_type": "code",
      "metadata": {
        "colab": {
          "base_uri": "https://localhost:8080/",
          "height": 279
        },
        "id": "57I5yuF0jaI9",
        "outputId": "accd1b73-ad31-4222-937e-c831fd4c261a"
      },
      "source": [
        "# Draw a histogram\n",
        "import matplotlib.pyplot as plt\n",
        "plt.hist(AllNEntropy, bins = 10)\n",
        "plt.xlabel('Entropy (bit)')\n",
        "plt.ylabel('Number of profiles')\n",
        "plt.show()"
      ],
      "execution_count": null,
      "outputs": [
        {
          "output_type": "display_data",
          "data": {
            "image/png": "[encoded data removed]",
            "text/plain": [
              "<Figure size 432x288 with 1 Axes>"
            ]
          },
          "metadata": {
            "tags": [],
            "needs_background": "light"
          }
        }
      ]
    }
  ]
}